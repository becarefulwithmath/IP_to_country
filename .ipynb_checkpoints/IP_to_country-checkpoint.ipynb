{
 "cells": [
  {
   "cell_type": "code",
   "execution_count": null,
   "metadata": {},
   "outputs": [],
   "source": [
    "!pip install ip2geotools\n",
    "import pandas as pd  \n",
    "from ip2geotools.databases.noncommercial import DbIpCity\n",
    "\n",
    "def xxx(str):\n",
    "  return DbIpCity.get(str, api_key='free').country\n",
    "data = pd.read_csv(\"data1.csv\")\n",
    "data['Country'] = data['IP'].apply(xxx)\n",
    "print(data)\n",
    "data.to_csv (r'data2.csv', index = False, header=True)"
   ]
  }
 ],
 "metadata": {
  "kernelspec": {
   "display_name": "Python 3",
   "language": "python",
   "name": "python3"
  },
  "language_info": {
   "codemirror_mode": {
    "name": "ipython",
    "version": 3
   },
   "file_extension": ".py",
   "mimetype": "text/x-python",
   "name": "python",
   "nbconvert_exporter": "python",
   "pygments_lexer": "ipython3",
   "version": "3.6.5"
  }
 },
 "nbformat": 4,
 "nbformat_minor": 2
}
